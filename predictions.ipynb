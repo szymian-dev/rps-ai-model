{
 "cells": [
  {
   "cell_type": "markdown",
   "metadata": {},
   "source": [
    "## Testing predictions"
   ]
  },
  {
   "cell_type": "code",
   "execution_count": null,
   "metadata": {},
   "outputs": [],
   "source": [
    "#lib imports\n",
    "import os\n",
    "import tensorflow as tf\n",
    "import numpy as np\n",
    "import matplotlib.pyplot as plt\n",
    "import keras\n",
    "from tensorflow.keras.preprocessing.image import ImageDataGenerator\n",
    "\n",
    "#local imports\n",
    "from utils import *\n",
    "\n",
    "print('TensorFlow version: ', tf.__version__)\n",
    "print('Keras version: ', keras.__version__)\n",
    "print('Python version: ', os.sys.version)"
   ]
  },
  {
   "cell_type": "code",
   "execution_count": null,
   "metadata": {},
   "outputs": [],
   "source": [
    "model_name = 'simple_cnn.h5'\n",
    "model_dir = './models'\n",
    "\n",
    "model = load_model(model_dir, model_name)\n",
    "\n",
    "model.summary()"
   ]
  },
  {
   "cell_type": "code",
   "execution_count": null,
   "metadata": {},
   "outputs": [],
   "source": [
    "predict_dir = 'predict_images'\n",
    "\n",
    "if not os.path.exists(predict_dir):\n",
    "    os.makedirs(predict_dir)\n",
    "\n",
    "predict_image = '1.png'\n",
    "predict_image_path = os.path.join(predict_dir, predict_image)\n",
    "\n",
    "prepared_image = prepare_image(predict_image_path)\n",
    "\n",
    "predictions = model.predict(prepared_image)"
   ]
  }
 ],
 "metadata": {
  "language_info": {
   "name": "python"
  }
 },
 "nbformat": 4,
 "nbformat_minor": 2
}

{
 "cells": [
  {
   "cell_type": "code",
   "execution_count": 1,
   "metadata": {},
   "outputs": [],
   "source": [
    "from rembg import remove\n",
    "from PIL import Image\n",
    "import io\n",
    "import os"
   ]
  },
  {
   "cell_type": "code",
   "execution_count": 2,
   "metadata": {},
   "outputs": [],
   "source": [
    "def process_images(input_folder: str, output_folder: str) -> None:\n",
    "     \"\"\"\n",
    "    This function processes all image files in the input folder, removes their background,\n",
    "    and saves them in the output folder with a green background. It handles errors such\n",
    "    as missing folders or file processing issues.\n",
    "\n",
    "    :param input_folder: Path to the input folder containing images\n",
    "    :param output_folder: Path to the output folder where processed images will be saved\n",
    "    \"\"\"\n",
    "    if not os.path.exists(output_folder):\n",
    "        try:\n",
    "            os.makedirs(output_folder)\n",
    "            print(f'Directory {output_folder} created')\n",
    "        except OSError as e:\n",
    "            print(f'Error creating directory {output_folder}: {e}')\n",
    "\n",
    "    try:\n",
    "        files = os.listdir(input_folder)\n",
    "\n",
    "        if not files:\n",
    "            print(f'No files found in {input_folder}')\n",
    "            return\n",
    "\n",
    "        for filename in files:\n",
    "            input_path = os.path.join(input_folder, filename)\n",
    "\n",
    "            if not filename.lower().endswith(('.png', '.jpg', '.jpeg')):\n",
    "                print(f'File {filename} is not a valid image')\n",
    "                continue\n",
    "\n",
    "            try:\n",
    "                with open(input_path, 'rb') as i:\n",
    "                    original_image = i.read()\n",
    "                    output = remove(original_image)\n",
    "\n",
    "                output_image = Image.open(io.BytesIO(output))\n",
    "                green_background = Image.new(\"RGB\", output_image.size, (0, 255, 0))\n",
    "                green_background.paste(output_image, (0, 0), output_image)\n",
    "                output_path = os.path.join(output_folder, filename)\n",
    "                green_background.save(output_path)\n",
    "                print(f'File {filename} processed successfully and saved to {output_path}')\n",
    "            except Exception as e:\n",
    "                print(f'Error processing file {filename}: {e}')\n",
    "                continue\n",
    "\n",
    "    except FileNotFoundError as e:\n",
    "        print(f'Error: {e}')\n",
    "    except Exception as e:\n",
    "        print(f'Unexpected error: {e}')\n"
   ]
  },
  {
   "cell_type": "code",
   "execution_count": 4,
   "metadata": {},
   "outputs": [
    {
     "name": "stdout",
     "output_type": "stream",
     "text": [
      "File 3d283f6f-7bc1-4cbd-ae8b-f736567271c3.jpg processed successfully and saved to results\\3d283f6f-7bc1-4cbd-ae8b-f736567271c3.jpg\n",
      "File 4ad17f54-b54e-4946-b3c3-99bcada88e49.jpg processed successfully and saved to results\\4ad17f54-b54e-4946-b3c3-99bcada88e49.jpg\n",
      "File 51012075-dc58-4fc0-9ebf-945042dc49af (1).jpg processed successfully and saved to results\\51012075-dc58-4fc0-9ebf-945042dc49af (1).jpg\n",
      "File 51012075-dc58-4fc0-9ebf-945042dc49af.jpg processed successfully and saved to results\\51012075-dc58-4fc0-9ebf-945042dc49af.jpg\n",
      "File 6df2a540-d474-45ff-9bf0-5c3113a2c532.jpg processed successfully and saved to results\\6df2a540-d474-45ff-9bf0-5c3113a2c532.jpg\n",
      "File 75530d7d-e623-4803-b418-c1e6dcf8d655.jpg processed successfully and saved to results\\75530d7d-e623-4803-b418-c1e6dcf8d655.jpg\n",
      "File 802eb70a-3b05-48c1-9d33-84275fa12313.jpg processed successfully and saved to results\\802eb70a-3b05-48c1-9d33-84275fa12313.jpg\n",
      "File c169c290-fb77-4b17-aed4-904bed70a98b.jpg processed successfully and saved to results\\c169c290-fb77-4b17-aed4-904bed70a98b.jpg\n",
      "File d35e2433-c5fa-4319-84c5-efd657ab0c80.jpg processed successfully and saved to results\\d35e2433-c5fa-4319-84c5-efd657ab0c80.jpg\n",
      "File db508aab-d996-4e10-859e-2963a048c1a5.jpg processed successfully and saved to results\\db508aab-d996-4e10-859e-2963a048c1a5.jpg\n",
      "File e3908688-6987-4eb6-9a81-7551121b4a94.jpg processed successfully and saved to results\\e3908688-6987-4eb6-9a81-7551121b4a94.jpg\n"
     ]
    }
   ],
   "source": [
    "process_images('new', 'results')"
   ]
  },
  {
   "cell_type": "code",
   "execution_count": 9,
   "metadata": {},
   "outputs": [],
   "source": [
    "def process_single_image(image_path: str, output_folder: str) -> None:\n",
    "    \"\"\"\n",
    "    This function processes a single image file, removes its background, and saves it in the \n",
    "    output folder with a green background. It handles errors such as missing file or folder issues.\n",
    "\n",
    "    :param image_path: Path to the input image file\n",
    "    :param output_folder: Path to the output folder where the processed image will be saved\n",
    "    \"\"\"\n",
    "    \n",
    "    if not os.path.exists(output_folder):\n",
    "        try:\n",
    "            os.makedirs(output_folder)\n",
    "            print(f'The folder {output_folder} was created.')\n",
    "        except Exception as e:\n",
    "            print(f'Error creating folder {output_folder}: {e}')\n",
    "            return\n",
    "\n",
    "    if not os.path.exists(image_path):\n",
    "        print(f'Error: The image file {image_path} does not exist.')\n",
    "        return\n",
    "\n",
    "    try:\n",
    "        with open(image_path, 'rb') as i:\n",
    "            original_image = i.read()\n",
    "            output = remove(original_image)\n",
    "\n",
    "        output_image = Image.open(io.BytesIO(output))\n",
    "\n",
    "        green_background = Image.new(\"RGB\", output_image.size, (0, 255, 0))\n",
    "        green_background.paste(output_image, (0, 0), output_image)\n",
    "\n",
    "        filename = os.path.basename(image_path)\n",
    "        output_path = os.path.join(output_folder, filename)\n",
    "\n",
    "        green_background.save(output_path)\n",
    "        print(f'The file {filename} was processed and saved in {output_folder}.')\n",
    "\n",
    "    except Exception as e:\n",
    "        print(f'Error processing the image {image_path}: {e}')\n"
   ]
  },
  {
   "cell_type": "code",
   "execution_count": 10,
   "metadata": {},
   "outputs": [
    {
     "name": "stdout",
     "output_type": "stream",
     "text": [
      "The file 3.jpg was processed and saved in results.\n"
     ]
    }
   ],
   "source": [
    "process_single_image('predict_images/3.jpg', 'results')"
   ]
  }
 ],
 "metadata": {
  "kernelspec": {
   "display_name": "rps",
   "language": "python",
   "name": "python3"
  },
  "language_info": {
   "codemirror_mode": {
    "name": "ipython",
    "version": 3
   },
   "file_extension": ".py",
   "mimetype": "text/x-python",
   "name": "python",
   "nbconvert_exporter": "python",
   "pygments_lexer": "ipython3",
   "version": "3.10.15"
  }
 },
 "nbformat": 4,
 "nbformat_minor": 2
}

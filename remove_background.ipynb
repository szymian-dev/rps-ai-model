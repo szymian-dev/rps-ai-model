{
 "cells": [
  {
   "cell_type": "code",
   "execution_count": 1,
   "metadata": {},
   "outputs": [],
   "source": [
    "from rembg import remove\n",
    "from PIL import Image\n",
    "import io"
   ]
  },
  {
   "cell_type": "code",
   "execution_count": 4,
   "metadata": {},
   "outputs": [],
   "source": [
    "input_path = 'images/manuscript.jpg'\n",
    "output_path = input_path.replace(\"images\", \"results\")\n",
    "\n",
    "with open(input_path, 'rb') as i:\n",
    "    original_image = i.read()\n",
    "    output = remove(original_image)\n",
    "\n",
    "output_image = Image.open(io.BytesIO(output))\n",
    "green_background = Image.new(\"RGB\", output_image.size, (0, 255, 0))\n",
    "green_background.paste(output_image, (0, 0), output_image)\n",
    "green_background.save(output_path)"
   ]
  }
 ],
 "metadata": {
  "kernelspec": {
   "display_name": "rps",
   "language": "python",
   "name": "python3"
  },
  "language_info": {
   "codemirror_mode": {
    "name": "ipython",
    "version": 3
   },
   "file_extension": ".py",
   "mimetype": "text/x-python",
   "name": "python",
   "nbconvert_exporter": "python",
   "pygments_lexer": "ipython3",
   "version": "3.10.15"
  }
 },
 "nbformat": 4,
 "nbformat_minor": 2
}

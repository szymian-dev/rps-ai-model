{
 "cells": [
  {
   "cell_type": "markdown",
   "metadata": {},
   "source": [
    "# Rock Paper Scissors - AI\n",
    "## Model training"
   ]
  },
  {
   "cell_type": "markdown",
   "metadata": {},
   "source": [
    "### Imports"
   ]
  },
  {
   "cell_type": "code",
   "execution_count": 1,
   "metadata": {},
   "outputs": [
    {
     "name": "stdout",
     "output_type": "stream",
     "text": [
      "TensorFlow version:  2.16.1\n",
      "Keras version:  3.1.1\n",
      "Python version:  3.12.2 | packaged by conda-forge | (main, Feb 16 2024, 20:42:31) [MSC v.1937 64 bit (AMD64)]\n"
     ]
    }
   ],
   "source": [
    "#lib imports\n",
    "import os\n",
    "import tensorflow as tf\n",
    "import numpy as np\n",
    "import matplotlib.pyplot as plt\n",
    "import keras\n",
    "\n",
    "#local imports\n",
    "from utils import *\n",
    "\n",
    "print('TensorFlow version: ', tf.__version__)\n",
    "print('Keras version: ', keras.__version__)\n",
    "print('Python version: ', os.sys.version)"
   ]
  },
  {
   "cell_type": "markdown",
   "metadata": {},
   "source": [
    "### Dataset preprocessing"
   ]
  },
  {
   "cell_type": "code",
   "execution_count": 2,
   "metadata": {},
   "outputs": [
    {
     "name": "stdout",
     "output_type": "stream",
     "text": [
      "./dataset\\train\n",
      "    - rock: 580 images\n",
      "    - paper: 569 images\n",
      "    - scissors: 600 images\n",
      "./dataset\\val\n",
      "    - rock: 73 images\n",
      "    - paper: 71 images\n",
      "    - scissors: 75 images\n",
      "./dataset\\test\n",
      "    - rock: 73 images\n",
      "    - paper: 72 images\n",
      "    - scissors: 75 images\n"
     ]
    }
   ],
   "source": [
    "local_dir = './'\n",
    "original_data_dir = os.path.join(local_dir, 'original_data')\n",
    "dataset_dir = os.path.join(local_dir, 'dataset')\n",
    "\n",
    "train_dir = os.path.join(dataset_dir, 'train')\n",
    "val_dir = os.path.join(dataset_dir, 'val')\n",
    "test_dir = os.path.join(dataset_dir, 'test')\n",
    "\n",
    "if not os.path.exists(original_data_dir):\n",
    "    raise FileNotFoundError('Original data directory not found')\n",
    "\n",
    "classes = ['rock', 'paper', 'scissors']\n",
    "\n",
    "if not os.path.exists(dataset_dir):\n",
    "    os.makedirs(dataset_dir)\n",
    "    split_dataset(classes, original_data_dir, dataset_dir)\n",
    "\n",
    "for path in [train_dir, val_dir, test_dir]:\n",
    "    if not os.path.exists(path):\n",
    "        raise FileNotFoundError(f'{path} not found')\n",
    "    \n",
    "    print(path)\n",
    "    for class_name in classes:\n",
    "        print(f'    - {class_name}: {len(os.listdir(os.path.join(path, class_name)))} images')\n",
    "  "
   ]
  },
  {
   "cell_type": "code",
   "execution_count": 3,
   "metadata": {},
   "outputs": [
    {
     "name": "stdout",
     "output_type": "stream",
     "text": [
      "No duplicates found in dataset\n",
      "2188 files found in dataset\n"
     ]
    }
   ],
   "source": [
    "check_for_duplicates_in_dataset('./dataset')"
   ]
  },
  {
   "cell_type": "markdown",
   "metadata": {},
   "source": [
    "### Data augmentation"
   ]
  },
  {
   "cell_type": "code",
   "execution_count": null,
   "metadata": {},
   "outputs": [],
   "source": []
  },
  {
   "cell_type": "markdown",
   "metadata": {},
   "source": [
    "### Model CNN"
   ]
  },
  {
   "cell_type": "code",
   "execution_count": null,
   "metadata": {},
   "outputs": [],
   "source": []
  },
  {
   "cell_type": "markdown",
   "metadata": {},
   "source": [
    "### Training"
   ]
  },
  {
   "cell_type": "code",
   "execution_count": null,
   "metadata": {},
   "outputs": [],
   "source": []
  }
 ],
 "metadata": {
  "kernelspec": {
   "display_name": "ML",
   "language": "python",
   "name": "python3"
  },
  "language_info": {
   "codemirror_mode": {
    "name": "ipython",
    "version": 3
   },
   "file_extension": ".py",
   "mimetype": "text/x-python",
   "name": "python",
   "nbconvert_exporter": "python",
   "pygments_lexer": "ipython3",
   "version": "3.12.2"
  }
 },
 "nbformat": 4,
 "nbformat_minor": 2
}

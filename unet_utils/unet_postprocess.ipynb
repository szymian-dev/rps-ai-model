{
 "cells": [
  {
   "cell_type": "code",
   "execution_count": 1,
   "metadata": {},
   "outputs": [
    {
     "name": "stdout",
     "output_type": "stream",
     "text": [
      "Mask almost empty, skipping: ./segmented_data\\paper\\IMG_20241111_201644_1.png\n",
      "Mask almost empty, skipping: ./segmented_data\\paper\\IMG_20241111_201648_1.png\n",
      "Mask almost empty, skipping: ./segmented_data\\paper\\IMG_20241111_201659_1.png\n",
      "Mask almost empty, skipping: ./segmented_data\\paper\\IMG_20241111_202031.png\n",
      "Mask almost empty, skipping: ./segmented_data\\paper\\IMG_20241111_202429.png\n",
      "Mask almost empty, skipping: ./segmented_data\\paper\\IMG_20241111_204806.png\n",
      "Mask almost empty, skipping: ./segmented_data\\paper\\IMG_20241111_205557.png\n",
      "Mask almost empty, skipping: ./segmented_data\\paper\\IMG_7634.png\n",
      "Mask almost empty, skipping: ./segmented_data\\paper\\IMG_8516.png\n",
      "Mask almost empty, skipping: ./segmented_data\\paper\\IMG_8567.png\n",
      "Mask almost empty, skipping: ./segmented_data\\rock\\IMG_20241111_184317_1.png\n",
      "Mask almost empty, skipping: ./segmented_data\\rock\\IMG_20241111_184327_1.png\n",
      "Mask almost empty, skipping: ./segmented_data\\rock\\IMG_8056.png\n",
      "Mask almost empty, skipping: ./segmented_data\\scissors\\IMG_20241111_172153_1.png\n",
      "Mask almost empty, skipping: ./segmented_data\\scissors\\IMG_20241111_172156_1.png\n",
      "Mask almost empty, skipping: ./segmented_data\\scissors\\IMG_20241111_172306_1.png\n",
      "Mask almost empty, skipping: ./segmented_data\\scissors\\IMG_20241111_172309_1.png\n",
      "Mask almost empty, skipping: ./segmented_data\\scissors\\IMG_20241111_172312_1.png\n",
      "Mask almost empty, skipping: ./segmented_data\\scissors\\IMG_20241111_172327_1.png\n",
      "Mask almost empty, skipping: ./segmented_data\\scissors\\IMG_20241111_173052.png\n",
      "Mask almost empty, skipping: ./segmented_data\\scissors\\IMG_20241111_173054_1.png\n",
      "Mask almost empty, skipping: ./segmented_data\\scissors\\IMG_20241111_173057_1.png\n"
     ]
    }
   ],
   "source": [
    "import os\n",
    "import numpy as np\n",
    "from skimage.morphology import remove_small_holes, remove_small_objects\n",
    "from PIL import Image\n",
    "\n",
    "SRC_DIR = './segmented_data'\n",
    "DESTINATION_DIR = './postprocessed_segmented_data'\n",
    "\n",
    "assert os.path.exists(SRC_DIR), 'Source directory does not exist'\n",
    "os.makedirs(DESTINATION_DIR, exist_ok=True)\n",
    "\n",
    "\n",
    "def postprocess_mask(mask):\n",
    "    mask[mask == 255] = 1\n",
    "    assert np.all(np.isin(mask, [0, 1])), 'Mask values should be 0 or 1'\n",
    "    mask_bool = mask.astype(bool)\n",
    "    processed_mask = remove_small_objects(mask_bool, min_size=128)\n",
    "    processed_mask = remove_small_holes(processed_mask, area_threshold=256)\n",
    "    mask = processed_mask.astype(np.uint8) * 255\n",
    "    return mask\n",
    "\n",
    "def check_if_mask_almost_empty(mask):\n",
    "    count_non_zero = np.count_nonzero(mask)\n",
    "    if count_non_zero < 900:\n",
    "        return True\n",
    "\n",
    "for subfolder in os.listdir(SRC_DIR):\n",
    "    src_subfolder = os.path.join(SRC_DIR, subfolder)\n",
    "    dest_subfolder = os.path.join(DESTINATION_DIR, subfolder)\n",
    "    os.makedirs(dest_subfolder, exist_ok=True)\n",
    "\n",
    "    for file in os.listdir(src_subfolder):\n",
    "        src_file = os.path.join(src_subfolder, file)\n",
    "        dest_file = os.path.join(dest_subfolder, file)\n",
    "\n",
    "        mask = np.array(Image.open(src_file))\n",
    "        processed_mask = postprocess_mask(mask)\n",
    "        if check_if_mask_almost_empty(processed_mask):\n",
    "            print('Mask almost empty, skipping:', src_file)\n",
    "            continue\n",
    "        image = Image.fromarray(processed_mask)\n",
    "        if image.mode != 'L':\n",
    "            image = image.convert('L')\n",
    "        image.save(dest_file)"
   ]
  }
 ],
 "metadata": {
  "kernelspec": {
   "display_name": "ML",
   "language": "python",
   "name": "python3"
  },
  "language_info": {
   "codemirror_mode": {
    "name": "ipython",
    "version": 3
   },
   "file_extension": ".py",
   "mimetype": "text/x-python",
   "name": "python",
   "nbconvert_exporter": "python",
   "pygments_lexer": "ipython3",
   "version": "3.12.2"
  }
 },
 "nbformat": 4,
 "nbformat_minor": 2
}
